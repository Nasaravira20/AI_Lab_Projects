{
 "cells": [
  {
   "cell_type": "code",
   "execution_count": 3,
   "metadata": {},
   "outputs": [
    {
     "name": "stdout",
     "output_type": "stream",
     "text": [
      "Requirement already satisfied: rouge in /home/mw/Documents/Projects/Law/lawenv/lib/python3.12/site-packages (1.0.1)\n",
      "Requirement already satisfied: six in /home/mw/Documents/Projects/Law/lawenv/lib/python3.12/site-packages (from rouge) (1.16.0)\n"
     ]
    }
   ],
   "source": [
    "! pip install rouge\n",
    "\n",
    "import sys\n",
    "sys.path.append('/home/mw/Documents/Projects/Law/lawenv/lib/python3.12/site-packages')\n"
   ]
  },
  {
   "cell_type": "code",
   "execution_count": 4,
   "metadata": {},
   "outputs": [
    {
     "data": {
      "text/plain": [
       "[{'rouge-1': {'r': 0.3620689655172414,\n",
       "   'p': 0.10144927536231885,\n",
       "   'f': 0.1584905626184408},\n",
       "  'rouge-2': {'r': 0.05333333333333334,\n",
       "   'p': 0.011204481792717087,\n",
       "   'f': 0.018518515649113103},\n",
       "  'rouge-l': {'r': 0.3448275862068966,\n",
       "   'p': 0.0966183574879227,\n",
       "   'f': 0.15094339280712007}}]"
      ]
     },
     "execution_count": 4,
     "metadata": {},
     "output_type": "execute_result"
    }
   ],
   "source": [
    "from rouge import Rouge \n",
    "\n",
    "# hypothesis = \"the #### transcript is a written version of each day 's cnn student news program use this transcript to he    lp students with reading comprehension and vocabulary use the weekly newsquiz to test your knowledge of storie s you     saw on cnn student news\"\n",
    "hypothesis = 'In India, cyberlaw refers to the set of laws that govern the use of computers, digital communication, and the internet. These laws aim to protect individuals and organizations from cybercrimes and ensure the secure use of digital technologies. Here are some steps you can take if you believe you have been a victim of a cybercrime in India: 1. Report the incident to the local police: The first step is to report the incident to your local police station. Provide them with as much detail as possible about the incident, including the date, time, and any other relevant information. The police will then register a First Information Report (FIR) and begin an investigation. 2. Preserve evidence: It is important to preserve any evidence related to the cybercrime. This may include saving any emails, messages, or other digital communications that are relevant to the incident. If you have any physical evidence, such as a damaged computer or a printout of a suspicious email, make sure to keep it in a safe place. 3. Contact your internet service provider (ISP): Inform your ISP about the incident and ask them to preserve any logs or records that may be relevant to the investigation. This could include IP addresses, email headers, and other data that may help identify the perpetrator. 4. Consider filing a complaint with the Cyber Appellate Tribunal (CAT): If the cybercrime involves financial losses or other significant damages, you may want to consider filing a complaint with the CAT. The CAT is a specialized body that deals with disputes related to cyberlaw in India. They have the power to issue orders for compensation and other remedies. 5. Seek legal advice: If the cybercrime is complex or involves significant financial or reputational damage, it may be a good idea to seek legal advice from a qualified cyberlaw expert. They can help you navigate the legal process and ensure that your rights are protected. 6. Stay informed: Keep yourself informed about the progress of the investigation and any legal proceedings. You can do this by regularly contacting the police or your lawyer. It is also a good idea to stay informed about cybersecurity best practices and take steps to protect yourself from future cyberattacks. 7. Cooperate with the investigation: Finally, it is important to cooperate fully with the investigation and provide any information or evidence that is requested by the police or your lawyer. This will help ensure'\n",
    "# reference = \"this page includes the show transcript use the transcript to help students with reading comprehension and     vocabulary at the bottom of the page , comment for a chance to be mentioned on cnn student news . you must be a teac    her or a student age # # or older to request a mention on the cnn student news roll call . the weekly newsquiz tests     students ' knowledge of even ts in the news\"\n",
    "reference = '''In India, cyber laws are contained in the Information Technology Act, 2000 (\"IT \n",
    "Act\") which came into force on October 17, 2000. The main purpose of the Act \n",
    "is  to  provide  legal  recognition  to  electronic  commerce  and  to  facilitate  filing  of \n",
    "electronic records with the Government. \n",
    "The following Act, Rules and Regulations are covered under cyber laws: \n",
    "1.  Information Technology Act, 2000 \n",
    "2.  Information Technology (Certifying Authorities) Rules, 2000 \n",
    "3.  Information Technology (Security Procedure) Rules, 2004 \n",
    "4.  Information Technology (Certifying Authority) Regulations, 2001 '''\n",
    "rouge = Rouge()\n",
    "scores = rouge.get_scores(hypothesis, reference)\n",
    "# print(scores)\n",
    "scores\n"
   ]
  },
  {
   "cell_type": "code",
   "execution_count": null,
   "metadata": {},
   "outputs": [],
   "source": []
  }
 ],
 "metadata": {
  "kernelspec": {
   "display_name": "lawenv",
   "language": "python",
   "name": "python3"
  },
  "language_info": {
   "codemirror_mode": {
    "name": "ipython",
    "version": 3
   },
   "file_extension": ".py",
   "mimetype": "text/x-python",
   "name": "python",
   "nbconvert_exporter": "python",
   "pygments_lexer": "ipython3",
   "version": "3.12.5"
  }
 },
 "nbformat": 4,
 "nbformat_minor": 2
}
